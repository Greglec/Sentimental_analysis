{
 "cells": [
  {
   "cell_type": "code",
   "execution_count": 1,
   "metadata": {},
   "outputs": [],
   "source": [
    "import pickle\n",
    "import nltk\n",
    "#nltk.download('averaged_perceptron_tagger')\n",
    "import random\n",
    "from nltk.classify.scikitlearn import SklearnClassifier #for scilearn classifier\n",
    "from nltk.tokenize import word_tokenize\n",
    "\n",
    "from sklearn.naive_bayes import MultinomialNB, GaussianNB, BernoulliNB\n",
    "from sklearn.linear_model import LogisticRegression, SGDClassifier\n",
    "from sklearn.svm import SVC, LinearSVC,NuSVC\n",
    "\n",
    "from nltk.classify import ClassifierI #so we can inherate from the nltk classifier class\n",
    "from statistics import mode #for the classifier vote system"
   ]
  },
  {
   "cell_type": "code",
   "execution_count": 2,
   "metadata": {},
   "outputs": [],
   "source": [
    "class ScoreClassifier(ClassifierI): #we pass a list of classifiers through this class\n",
    "    def __init__(self, *classifiers):#init method to run any methods\n",
    "        self._classifiers = classifiers #classifier list will be whatever list of classifiers passed \n",
    "        \n",
    "    def classify(self, features):\n",
    "        votes=[]\n",
    "        for c in self._classifiers:\n",
    "            v=c.classify(features)\n",
    "            votes.append(v)\n",
    "        return mode(votes)#returns number of votes\n",
    "    \n",
    "    def confidence(self,features):\n",
    "        votes=[]\n",
    "        for c in self._classifiers:\n",
    "            v=c.classify(features)\n",
    "            votes.append(v)\n",
    "        choice_votes = votes.count(mode(votes))\n",
    "        conf = choice_votes / len(votes)\n",
    "        return conf"
   ]
  },
  {
   "cell_type": "code",
   "execution_count": 3,
   "metadata": {},
   "outputs": [],
   "source": [
    "#saving documents and all_words in pickle\n",
    "documents_f=open(\"documents.pickle\",\"rb\")\n",
    "documents = pickle.load(documents_f)\n",
    "documents_f.close()\n",
    "\n",
    "word_features5k_f = open(\"word_features.pickle\",\"rb\")\n",
    "word_features = pickle.load(word_features5k_f)\n",
    "word_features5k_f.close()"
   ]
  },
  {
   "cell_type": "code",
   "execution_count": 4,
   "metadata": {},
   "outputs": [],
   "source": [
    "def find_features(document):\n",
    "    words = word_tokenize(document)\n",
    "    features = {}\n",
    "    for w in word_features:\n",
    "        features[w] = (w in words)\n",
    "    \n",
    "    return features"
   ]
  },
  {
   "cell_type": "code",
   "execution_count": 5,
   "metadata": {},
   "outputs": [],
   "source": [
    "#convert words in dictionnary of 5000 words with category true (neg) or false (pos)\n",
    "featuresets = [(find_features(rev), category) for (rev,category) in documents ]\n",
    "\n",
    "#featuresets_f = open(\"featuresets.pickle\", \"rb\")\n",
    "#featuresets = pickle.load(featuresets_f)\n",
    "#featuresets_f.close()"
   ]
  },
  {
   "cell_type": "code",
   "execution_count": 6,
   "metadata": {},
   "outputs": [],
   "source": [
    "random.shuffle(featuresets)"
   ]
  },
  {
   "cell_type": "code",
   "execution_count": 7,
   "metadata": {},
   "outputs": [],
   "source": [
    "D_train = featuresets[:10000]\n",
    "D_test = featuresets[10000:]"
   ]
  },
  {
   "cell_type": "code",
   "execution_count": 8,
   "metadata": {},
   "outputs": [],
   "source": [
    "open_file = open(\"NB_classifier.pickle\",\"rb\")\n",
    "NB_classifier = pickle.load(open_file)\n",
    "open_file.close()\n",
    "\n",
    "open_file = open(\"MNB_classifier.pickle\",\"rb\")\n",
    "MNB_classifier = pickle.load(open_file)\n",
    "open_file.close()\n",
    "\n",
    "open_file = open(\"BernoulliNB_classifier.pickle\",\"rb\")\n",
    "BernoulliNB_classifier = pickle.load(open_file)\n",
    "open_file.close()\n",
    "\n",
    "open_file = open(\"LogisticRegression_classifier.pickle\",\"rb\")\n",
    "LogisticRegression_classifier = pickle.load(open_file)\n",
    "open_file.close()\n",
    "\n",
    "open_file = open(\"StochasticGradient_classifier.pickle\",\"rb\")\n",
    "StochasticGradient_classifier = pickle.load(open_file)\n",
    "open_file.close()\n",
    "\n",
    "open_file = open(\"SVC_classifier.pickle\",\"rb\")\n",
    "SVC_classifier = pickle.load(open_file)\n",
    "open_file.close()\n",
    "\n",
    "open_file = open(\"LinearSVC_classifier.pickle\",\"rb\")\n",
    "LinearSVC_classifier = pickle.load(open_file)\n",
    "open_file.close()\n",
    "\n",
    "open_file = open(\"NuSVC_classifier.pickle\",\"rb\")\n",
    "NuSVC_classifier = pickle.load(open_file)\n",
    "open_file.close()\n",
    "\n",
    "open_file = open(\"voted_classifier.pickle\",\"rb\")\n",
    "voted_classifier = pickle.load(open_file)\n",
    "open_file.close()"
   ]
  },
  {
   "cell_type": "code",
   "execution_count": 9,
   "metadata": {
    "scrolled": true
   },
   "outputs": [
    {
     "name": "stdout",
     "output_type": "stream",
     "text": [
      "Most Informative Features\n",
      "              engrossing = True              pos : neg    =     21.0 : 1.0\n",
      "                 generic = True              neg : pos    =     16.4 : 1.0\n",
      "                mediocre = True              neg : pos    =     16.4 : 1.0\n",
      "                 routine = True              neg : pos    =     15.0 : 1.0\n",
      "                    dull = True              neg : pos    =     14.8 : 1.0\n",
      "               inventive = True              pos : neg    =     14.3 : 1.0\n",
      "                    flat = True              neg : pos    =     14.2 : 1.0\n",
      "                  boring = True              neg : pos    =     13.9 : 1.0\n",
      "              refreshing = True              pos : neg    =     13.6 : 1.0\n",
      "                    warm = True              pos : neg    =     12.6 : 1.0\n",
      "                powerful = True              pos : neg    =     12.4 : 1.0\n",
      "                   stale = True              neg : pos    =     11.7 : 1.0\n",
      "                mindless = True              neg : pos    =     11.7 : 1.0\n",
      "               realistic = True              pos : neg    =     11.6 : 1.0\n",
      "             mesmerizing = True              pos : neg    =     11.6 : 1.0\n"
     ]
    }
   ],
   "source": [
    "#15 most informative features of our dictionnary:\n",
    "NB_classifier.show_most_informative_features(15)\n",
    "#engrossing appears 20.3 times more in a neg review than a pos"
   ]
  },
  {
   "cell_type": "code",
   "execution_count": 10,
   "metadata": {},
   "outputs": [],
   "source": [
    "def sentiment(text):\n",
    "    feats = find_features(text)\n",
    "    return voted_classifier.classify(feats),voted_classifier.confidence(feats)"
   ]
  },
  {
   "cell_type": "code",
   "execution_count": 11,
   "metadata": {},
   "outputs": [],
   "source": [
    "####### sentimental analysis part #######"
   ]
  },
  {
   "cell_type": "code",
   "execution_count": 12,
   "metadata": {},
   "outputs": [],
   "source": [
    "from tweepy import Stream\n",
    "from tweepy import OAuthHandler\n",
    "from tweepy.streaming import StreamListener\n",
    "import time\n",
    "import json"
   ]
  },
  {
   "cell_type": "code",
   "execution_count": 13,
   "metadata": {},
   "outputs": [],
   "source": [
    "#API key, API secret key, access token, access secret.\n",
    "APIkey=\"nLC4PtZkNeKZaeLkhL8NMjcvo\"\n",
    "APIsecret=\"Z8jBaedVDuS9fIEGifZuDYXKVLMhFb4NwNT3zXrUvDaYwpDtlm\"\n",
    "atoken=\"2244574152-3K5KL7eLnINBZgbvoRxNamzcIe8UaGbgx3rSWHS\"\n",
    "asecret=\"kSBwVOV88U4UtIDDoyaJpuG8OAmt0rFrdUrMD71O1n3gA\"\n",
    "\n",
    "class listener(StreamListener):\n",
    "\n",
    "    def on_data(self, data):\n",
    "        all_data = json.loads(data)\n",
    "        \n",
    "        tweet = all_data[\"text\"]\n",
    "        sentiment_value, confidence = sentiment(tweet)\n",
    "        print(tweet, sentiment_value, confidence)\n",
    "        \n",
    "        if confidence*100 >= 80:\n",
    "            output=open(\"twitter_out.txt\",\"a\")\n",
    "            output.write(sentiment_value)\n",
    "            output.write(\"\\n\")\n",
    "            output.close()\n",
    "        \n",
    "        return True\n",
    "\n",
    "    def on_error(self, status):\n",
    "        print(status)"
   ]
  },
  {
   "cell_type": "code",
   "execution_count": 80,
   "metadata": {},
   "outputs": [
    {
     "name": "stdout",
     "output_type": "stream",
     "text": [
      "RT @ScottPresler: I'm out knocking doors right now in Pittsburgh, PA.\n",
      "\n",
      "I saw a gentleman, who wasn't on my list, but talked to him, anyway.… pos 0.7142857142857143\n",
      "@dimesforthought @MarkDice @realDonaldTrump @FoxNews I think that's a great idea.  It will take Trump out of the sp… https://t.co/o4t9cihocq pos 1.0\n",
      "Sad thing is that his base is ok w this. Donald Trump threatens to boycott presidential debates after DNC excludes… https://t.co/lDUBZUWLja pos 0.5714285714285714\n",
      "RT @RobertMaguire_: The President of the United States still owns and profits from a luxury resort in Florida where paying customers can gi… neg 0.7142857142857143\n",
      "RT @marklutchman: JUST IN: Rashida Tlaib will introduce articles of impeachment against Trump.\n",
      "\n",
      "I say, SHE’S the one that needs to be impea… neg 0.7142857142857143\n",
      "RT @TeaPainUSA: Looks like Colludy Rudy is involved in witness tamperin’.  Has Mueller got an indictment with his name on it?\n",
      "\n",
      "https://t.co… neg 0.8571428571428571\n",
      "RT @brycetache: The press is giving us nonstop Ilhan Omar coverage just as the Trump GOP Criminal Enterprise is finally being exposed. It’s… pos 1.0\n",
      "RT @TheRickWilson: I keep reading this headline and keep marveling at the sheer arrogance of the Trump legal team. https://t.co/PY1hwsc9Fv pos 1.0\n",
      "Agreed. Tweeting support for President Trump isn’t enough. \n",
      "\n",
      "But it’s a damn good way to start to reach folks who o… https://t.co/AMctt7H7hT pos 1.0\n",
      "RT @acnewsitics: Trump who has a 'very good brain' just called Apple CEO 'Tim Apple' I wish I was joking. \n",
      "\n",
      "https://t.co/dGKSpqltdk neg 0.8571428571428571\n",
      "RT @kenklippenstein: SCOOP: the ‘hate group’ reportedly behind the 9/11 poster of @IlhanMN, ACT, has as its director of gov affairs the wif… neg 0.8571428571428571\n",
      "RT @BryanDawsonUSA: Trump just said, “I think my language is very nice.”\n",
      "\n",
      "Here’s Trump using cun*t in public... also fu@k, motherfu@kers, b… pos 1.0\n",
      "RT @Christi88345205: “Muslims NEVER assimilate! They will NEVER be apart of another country. STOP the invasion before its too late.” 😡😡😡😡… neg 0.7142857142857143\n",
      "RT @TerranomaLead: @Casual_Libtard @TheNoahRing @realDonaldTrump While I am a whole-hearted Trump supporter, to say he doesn't lie is disho… neg 0.7142857142857143\n",
      "RT @i24NEWS_EN: President Donald #Trump and former rival @HillaryClinton have rekindled their feud, after reactions pour in to #Clinton tel… pos 1.0\n",
      "RT @WoodyCrestHome: Hey @SenatorRounds Maybe if you really love your family you don’t have unprotected sex while married with a porn star o… neg 0.5714285714285714\n",
      "RT @tribelaw: Nothing could be more dangerous to democracy than a demagogue who claims there’s no way he can be legitimately voted out of o… pos 0.8571428571428571\n",
      "RT @NPWF: \"Government leaders should not be playing politics with people’s health and lives, yet this is what is happening. These new regul… pos 1.0\n",
      "RT @KimberlyMrsRR1: 🇺🇸\n",
      "\n",
      "🇺🇸This is Real! \n",
      "Are we paying attention?\n",
      "\n",
      "Brutal Warning to America From Egyptian Woman\n",
      "\n",
      "Wake Up or Be Wiped Out!… neg 0.7142857142857143\n",
      "@elevatorgodva @jamiedupree Manafort is a whore, and Trump's campaign manager. Not Hillary's. He had a company with Roger Stone. A pimp. neg 0.7142857142857143\n",
      "\"The border wall won't be effective at stopping people seeking a better life from getting to this country, but it w… https://t.co/6oVtvx1OMz pos 0.8571428571428571\n",
      "Tim Apple. Not @tim_cook, no, not Tim Cook. neg 0.7142857142857143\n",
      "RT @Kris_Sacrebleu: Will THIS shake #MAGA from their trump coma?\n",
      "\n",
      "Record level deficit. \n",
      "\n",
      "Record level debt. \n",
      "\n",
      "Hello? This thing on? Tap. T… neg 0.7142857142857143\n",
      "RT @tyrone345345: Is a black Father WRONG For Teaching His Kids How To Defend Themselves at their age during This Trump Era.....?? https://… neg 0.8571428571428571\n",
      "RT @ericbolling: McCabe taking a cue from Comey, Brennan and most infamously, James Clapper who blatantly lies directly to a Senate panel (… pos 0.5714285714285714\n",
      "It's like this now, his people will but dangerous if anything happens to him. neg 0.8571428571428571\n",
      "RT @RepMattGaetz: I'm betting on people to actually vote their own interests, and not follow just the endless saga of endless investigation… neg 0.8571428571428571\n",
      "RT @LaylaAlisha11: As border implodes, Ingraham rips McConnell, GOP Senate for ‘undermining’ Trump on national emergency. Even NYTimes said… neg 0.8571428571428571\n",
      "RT @KamalaHarris: Republicans and this Administration are trying to remake the courts with judges who are anti-LGBTQ and have other extreme… neg 0.7142857142857143\n",
      "RT @BuckSexton: what’s amazing is media thinks that 1 news network that is mostly (but not entirely) supportive of President Trump is a thr… pos 1.0\n",
      "@realDonaldTrump @woods353 And people say they don't know how Jim Jones got so many people to leave their homes , g… https://t.co/ChAnIrZNUZ neg 0.7142857142857143\n",
      "RT @washingtonpost: Democratic National Committee rejects Fox News for debates, citing article that suggested the network is 'propaganda' f… neg 0.7142857142857143\n",
      "RT @CraigCo62: F@ck this grandstanding POS - Trump threatens to refuse to presidential debates if they're not on a network he likes https:/… neg 0.7142857142857143\n",
      "@johnrobertsFox @DNC @FoxNews No they have it right. Fox's primary function is misinformation in service of Trump.… https://t.co/iPjRoHjtyJ pos 1.0\n",
      "RT @sokane1: Trump just called Apple CEO Tim Cook “Tim Apple” https://t.co/gTHHtjWvc9 neg 0.7142857142857143\n",
      "@caerod @EdKrassen No way. Miller will slither off as soon as he’s gotten every last ounce of blood from “trump” pos 1.0\n",
      "RT @_DrOsama: \"سراج مهمة\" https://t.co/g4Yi72Wd7f neg 0.7142857142857143\n",
      "The photo-op administration of djt. neg 0.7142857142857143\n",
      "RT @RexHuppke: Sadly, the Tim Apple news will greatly overshadow DHS Sec. Kirstjen Nielsen testifying before Congress that she doesn’t know… neg 0.7142857142857143\n",
      "RT @realDonaldTrump: Weirdo Tom Steyer doesn’t have the “guts” or money to run for President. He’s all talk! https://t.co/klmVsCmeNE pos 1.0\n",
      "RT @LisaMei62: 4. \"TIME = CORRUPTION.\"\n",
      "\n",
      "“...as a former FBI special agent who oversaw the FBI’s Political Corruption Unit for the entire na… pos 0.5714285714285714\n",
      "RT @JJ_Jaurequi: President Trump Delivers Remarks at the Conservative Political Action Conference \n",
      "#CPAC2019 #POTUS #PresidentDonaldTrump\n",
      "h… neg 0.7142857142857143\n",
      "RT @TomJChicago: 5 Ignore MSM's robotic word drooling on a Trump 20 run. Watch for indictments. Watch Parscale, the soon to be ex Trump cam… neg 0.8571428571428571\n",
      "House Dems Discuss Whether to Go After Ivanka Trump https://t.co/bYMIlRtVHS neg 0.7142857142857143\n",
      "Trump ends requirement that CIA report drone strike casualties https://t.co/mqxy9OJavE neg 0.7142857142857143\n",
      "RT @FabulousVPOE: @LegendaryEnergy @tyrone345345 @handymayhem It’s too bad he’s conflating proper handling and usage of a gun with a ‘Trump… neg 0.8571428571428571\n",
      "RT @ConnieSchultz: \"I was looking at some of those big, once-incredible job-producing factories...Those jobs have left Ohio. They're all co… neg 0.8571428571428571\n",
      "RT @sokane1: Trump just called Apple CEO Tim Cook “Tim Apple” https://t.co/gTHHtjWvc9 neg 0.7142857142857143\n",
      "RT @albeck2130: @MargusonBjorn @MSNBC @NBCNews It's same messages as in 2016. Same issues. Abortion, guns, border \"crisis\", Hillary, Bengaz… neg 0.8571428571428571\n",
      "RT @AlishaGrauso: The @GOP - most notably @senatemajldr - would have crucified Obama so fast had he done this during his presidency. https:… pos 1.0\n",
      "RT @Casual_Libtard: @realDonaldTrump is the reason we are all still here let’s be honest the media hates him for a reason he doesn’t lie he… pos 1.0\n",
      "RT @JaneMayerNYer: Boom! DNC Chair says Fox can't sponsor 2020 Dem Primary Debate:\n",
      "\"Recent reporting in the New Yorker on the inappropriate… neg 0.7142857142857143\n",
      "RT @TheDailyShow: @sokane1 Welcome to the club, Tim Apple! https://t.co/TEDZ378qmZ neg 0.7142857142857143\n",
      "@NoticiasVenezue Nada dice de la masacre en Santa Elena y el terrorismo de estado en el Táchira, menos aún de la de… https://t.co/yDdWMxpqwT pos 1.0\n",
      "RT @C_3C_3: Former Mexican President Pena Nieto was given a $100 million BRIBE by El Chapo.\n",
      "\n",
      "Pena Nieto has bashed Trump and the Border Wal… neg 0.7142857142857143\n",
      "RT @sarahkendzior: \"There's a saying in Ukraine about oligarchs and how they see people: 'The people are the shit we grow our money in.' Th… neg 0.7142857142857143\n"
     ]
    },
    {
     "name": "stdout",
     "output_type": "stream",
     "text": [
      "RT @DiamondandSilk: Enjoyed chatting with our great President, @realDonaldTrump. We love &amp; support the @POTUS because he loves &amp; supports a… pos 1.0\n",
      "@RepAdamSchiff @RepAOC @RepSarbanes @LeaderHoyer \n",
      "@BetoORourke @RepBenRayLujan @RepKarenBass @SenatorBurr… https://t.co/b60iz1MTpu neg 0.7142857142857143\n",
      "RT @nowthisnews: Trump just called Tim Cook ‘Tim Apple’ to his face https://t.co/3kcyrSRok8 neg 0.8571428571428571\n",
      "This hate filled hag knows the real reason Trump supporters don't like her.  It's because, if you didn't figure it… https://t.co/KqISBtvNjP neg 0.7142857142857143\n",
      "Trump administration offshore drilling plan due 'in coming weeks': official The Trump administration's revised five… https://t.co/QZjzndWJq4 neg 0.8571428571428571\n",
      "RT @PalmerReport: Donald Trump just referred to Apple CEO Tim Cook as \"Tim Apple.\" I'm pretty sure Trump is in need of immediate medical at… pos 0.8571428571428571\n",
      "RT @Fahrenthold: Wow! https://t.co/XkDvliGFWA neg 0.7142857142857143\n",
      "RT @andyroddick: Is this real? https://t.co/sBrBCRnD9H pos 0.7142857142857143\n",
      "The President @POTUS is getting bad advice from @IvankaTrump , feeding into the Chambers narrative, against his bet… https://t.co/JEEIaUG6Rh neg 0.8571428571428571\n",
      "He's just a crook. neg 0.7142857142857143\n",
      "RT @RealJack: BOOM: American Company Offers To Build The Wall Across The Southern Border For LESS THAN A FIFTH Of What Trump Requested\n",
      "\n",
      "htt… neg 0.7142857142857143\n",
      "RT @CNNnewsroom: First lady Melania Trump is going on a tour for her “Be Best” initiative.\n",
      "\n",
      "“She is focused on helping children,” her commu… pos 1.0\n",
      "RT @TheDailyShow: President Trump plays \"Name That Person!\" https://t.co/H38cZ8QqQz neg 0.7142857142857143\n",
      "RT @GeorgWebb: Ted Lieu, famous for dropping his Awan Congressional Secure Blackberry in the toilet, is going after Jared. I think it is ti… pos 1.0\n",
      "@realDonaldTrump @FoxNews Good, it is one less platform for #trump to spout his fear mongering, divisive, and hatef… https://t.co/8TlhKT2aFQ neg 0.8571428571428571\n",
      "RT @EdKrassen: Why does Trump always say, \"No Collusion,\" but he never says \"No Campaign Finance Crimes,\" or \"No Bank Fraud,\" or \"No Charit… neg 0.7142857142857143\n",
      "@RepRashida Your foul mouthed dissertation of Trump is disgusting.  And I do not support this President. But you ar… https://t.co/gHtElrQP4s neg 0.8571428571428571\n",
      "@JoeNBC Lol you cant say one thing that isnt bashing trump or you’ll be ridiculed in the thread neg 0.7142857142857143\n",
      "RT @PalmerReport: Michael Cohen’s suitcases full of new evidence just ruined a whole lot of lives in Trump land https://t.co/B0JidZtzXS neg 0.5714285714285714\n",
      "RT @OfficeOfMike: The only crime Trump committed?\n",
      "\n",
      "Beating Hillary Clinton. neg 0.8571428571428571\n",
      "RT @EdKrassen: Why does Trump always say, \"No Collusion,\" but he never says \"No Campaign Finance Crimes,\" or \"No Bank Fraud,\" or \"No Charit… neg 0.7142857142857143\n",
      "Waaa, Waaa,...but I love him, and I trusted him..we were best buds...how could this happen?   Don't tell me I was t… https://t.co/ek7rrqPnP8 pos 1.0\n",
      "RT @CyrusMMcQueen: It is a disservice to African Americans and the unimpeachable truth if you fail to acknowledge that racism is the reason… pos 1.0\n",
      "It’s So Bad That Even Sarah Sanders Can’t Lie About Jared &amp; Ivanka’s Security Clearances\n",
      "Under Trump, U.S. Trade De… https://t.co/J5ryxFnsFj pos 1.0\n",
      "RT @CyrusMMcQueen: It is a disservice to African Americans and the unimpeachable truth if you fail to acknowledge that racism is the reason… pos 1.0\n",
      "RT @Trumpet1984: Trump called Tim Cook of Apple, Tim Apple.\n",
      "\n",
      "Donald Grifter is such a moron.\n",
      "\n",
      "Melania Golddigger must be so embarrassed. neg 0.7142857142857143\n",
      "RT @MHayden951: @RealTT2020 Not sure I'm capable of imagining our nation with anyone else other than Trump as president.\n",
      "\n",
      "Thank God, we wer… neg 0.7142857142857143\n",
      "I wonder if this makes Jeff Amazon or Mark Facebook jealous? https://t.co/MKrFm5g8Yl via @Verge pos 0.8571428571428571\n",
      "RT @jonfavs: MONDAY: Award-winning journalist Jane Mayer reports that Fox News gave Trump debate questions in advance and then protected hi… neg 0.7142857142857143\n",
      "RT @JeffMerkley: Sec. Nielsen is testifying again today about her role in Trump's evil plan to separate children at the border. She's alrea… pos 1.0\n",
      "RT @ddale8: Trump today: \"Human trafficking is a disaster. Nobody knew too much about it until recently. It's been going on for a million y… neg 0.8571428571428571\n",
      "RT @SafetyPinDaily: Trump made shrinking US trade deficit major goal of his trade war, but it's instead ballooned to $621 billion - highest… neg 0.8571428571428571\n",
      "RT @HoarseWisperer: Man who bankrupted casinos proves ungood at business. https://t.co/raNci8Rey4 neg 0.7142857142857143\n",
      "@scarletstwin @BuddhaKatze @TiberiusScitus @IndependentCon7 @Trumpcrazytrain @kmillercc @KMullenary… https://t.co/DRDvksQXhg neg 0.7142857142857143\n",
      "RT @screamguitarman: @PeabodyLove1 @MollyJongFast https://t.co/VFq8hw03KT\n",
      "\n",
      "WAKE UP!!! WAKE UP FOLKS!! SNAP OUT OF YOUR MALAZE OR COMFORT ZO… neg 0.7142857142857143\n",
      "RT @ChN35633525: Basing charges on false accusations, the Deep State planned to remove Trump from Office and disenfranchise over 60 million… neg 0.8571428571428571\n",
      "RT @MrAndyNgo: 'These 18 Hate Crimes Were Blamed on Trump Supporters. Every One of Them Was a Hoax.' @WestJournalism put together the subse… neg 0.7142857142857143\n",
      "RT @Trey_VonDinkis: .\n",
      "📺FAKE NEWS  - AFTER MONTHS of DENIAL, FAKE NEWS ADMITS BORDER CRISIS\n",
      "\n",
      "Fake News Joke Leftist Media Admit Border Crisi… neg 0.7142857142857143\n",
      "RT @ScottMStedman: Breaking: The Trump administration is creating a database and tracking journalists and immigration advocates covering th… neg 0.7142857142857143\n",
      "RT @ajplus: The Trump administration is trying to gut the Endangered Species Act, and here is what’s at stake. https://t.co/QpYIbPdOc7 pos 1.0\n",
      "RT @kylegriffin1: Kirstjen Nielsen just said today that no immigrant was deported without being given multiple \"opportunities to take their… pos 0.7142857142857143\n",
      "RT @cobo_soc: Hace 6 años...\n",
      "\n",
      "Hugo Chávez Frías, partiste para multiplicarte en el corazón de Latinoamérica.\n",
      "\n",
      "Lo otro irónico... En 6 años… pos 1.0\n",
      "RT @carterwpage: Rip Van Winkle, a.k.a. @grantstern, awakens from a 3 year snooze...completely oblivious to the constant media hysteria of… pos 0.5714285714285714\n",
      "RT @hardball: President Trump frequently touted his academic success but went to great lengths to hide it. \n",
      "\n",
      "In the year he graduated from… pos 0.8571428571428571\n",
      "RT @TVietor08: The fact that Chris Wallace is a good journalist is irrelevant when the whole network does PR for Trump. Roger Ailes helped… neg 0.8571428571428571\n",
      "The allegation get top billing but the correction is buried, so not really a strike out pos 1.0\n",
      "See You in court @CBP neg 0.7142857142857143\n",
      "RT @kiyamonnai: no. white kids are applauded for it. why can’t black kids be too. https://t.co/GgmJ3rv6k4 neg 0.8571428571428571\n",
      "RT @ChuckCallesto: [UNREAL]...  Here are the TEN REPUBLICANS that will vote AGAINST Trump's National Emergency...  👇\n",
      "\n",
      "https://t.co/9nECHm1A… neg 0.8571428571428571\n",
      "RT @RBReich: So let me get this straight: The Trump administration can't keep track of the children they've separated from their parents at… neg 0.8571428571428571\n"
     ]
    },
    {
     "ename": "KeyboardInterrupt",
     "evalue": "",
     "output_type": "error",
     "traceback": [
      "\u001b[1;31m---------------------------------------------------------------------------\u001b[0m",
      "\u001b[1;31mKeyboardInterrupt\u001b[0m                         Traceback (most recent call last)",
      "\u001b[1;32m<ipython-input-80-c250c85986e4>\u001b[0m in \u001b[0;36m<module>\u001b[1;34m\u001b[0m\n\u001b[0;32m      3\u001b[0m \u001b[1;33m\u001b[0m\u001b[0m\n\u001b[0;32m      4\u001b[0m \u001b[0mtwitterStream\u001b[0m \u001b[1;33m=\u001b[0m \u001b[0mStream\u001b[0m\u001b[1;33m(\u001b[0m\u001b[0mauth\u001b[0m\u001b[1;33m,\u001b[0m \u001b[0mlistener\u001b[0m\u001b[1;33m(\u001b[0m\u001b[1;33m)\u001b[0m\u001b[1;33m)\u001b[0m\u001b[1;33m\u001b[0m\u001b[1;33m\u001b[0m\u001b[0m\n\u001b[1;32m----> 5\u001b[1;33m \u001b[0mtwitterStream\u001b[0m\u001b[1;33m.\u001b[0m\u001b[0mfilter\u001b[0m\u001b[1;33m(\u001b[0m\u001b[0mtrack\u001b[0m\u001b[1;33m=\u001b[0m\u001b[1;33m[\u001b[0m\u001b[1;34m'trump'\u001b[0m\u001b[1;33m]\u001b[0m\u001b[1;33m)\u001b[0m\u001b[1;33m\u001b[0m\u001b[1;33m\u001b[0m\u001b[0m\n\u001b[0m",
      "\u001b[1;32m~\\Anaconda3\\lib\\site-packages\\tweepy\\streaming.py\u001b[0m in \u001b[0;36mfilter\u001b[1;34m(self, follow, track, is_async, locations, stall_warnings, languages, encoding, filter_level)\u001b[0m\n\u001b[0;32m    451\u001b[0m             \u001b[0mself\u001b[0m\u001b[1;33m.\u001b[0m\u001b[0mbody\u001b[0m\u001b[1;33m[\u001b[0m\u001b[1;34m'filter_level'\u001b[0m\u001b[1;33m]\u001b[0m \u001b[1;33m=\u001b[0m \u001b[0mfilter_level\u001b[0m\u001b[1;33m.\u001b[0m\u001b[0mencode\u001b[0m\u001b[1;33m(\u001b[0m\u001b[0mencoding\u001b[0m\u001b[1;33m)\u001b[0m\u001b[1;33m\u001b[0m\u001b[1;33m\u001b[0m\u001b[0m\n\u001b[0;32m    452\u001b[0m         \u001b[0mself\u001b[0m\u001b[1;33m.\u001b[0m\u001b[0msession\u001b[0m\u001b[1;33m.\u001b[0m\u001b[0mparams\u001b[0m \u001b[1;33m=\u001b[0m \u001b[1;33m{\u001b[0m\u001b[1;34m'delimited'\u001b[0m\u001b[1;33m:\u001b[0m \u001b[1;34m'length'\u001b[0m\u001b[1;33m}\u001b[0m\u001b[1;33m\u001b[0m\u001b[1;33m\u001b[0m\u001b[0m\n\u001b[1;32m--> 453\u001b[1;33m         \u001b[0mself\u001b[0m\u001b[1;33m.\u001b[0m\u001b[0m_start\u001b[0m\u001b[1;33m(\u001b[0m\u001b[0mis_async\u001b[0m\u001b[1;33m)\u001b[0m\u001b[1;33m\u001b[0m\u001b[1;33m\u001b[0m\u001b[0m\n\u001b[0m\u001b[0;32m    454\u001b[0m \u001b[1;33m\u001b[0m\u001b[0m\n\u001b[0;32m    455\u001b[0m     def sitestream(self, follow, stall_warnings=False,\n",
      "\u001b[1;32m~\\Anaconda3\\lib\\site-packages\\tweepy\\streaming.py\u001b[0m in \u001b[0;36m_start\u001b[1;34m(self, is_async)\u001b[0m\n\u001b[0;32m    366\u001b[0m             \u001b[0mself\u001b[0m\u001b[1;33m.\u001b[0m\u001b[0m_thread\u001b[0m\u001b[1;33m.\u001b[0m\u001b[0mstart\u001b[0m\u001b[1;33m(\u001b[0m\u001b[1;33m)\u001b[0m\u001b[1;33m\u001b[0m\u001b[1;33m\u001b[0m\u001b[0m\n\u001b[0;32m    367\u001b[0m         \u001b[1;32melse\u001b[0m\u001b[1;33m:\u001b[0m\u001b[1;33m\u001b[0m\u001b[1;33m\u001b[0m\u001b[0m\n\u001b[1;32m--> 368\u001b[1;33m             \u001b[0mself\u001b[0m\u001b[1;33m.\u001b[0m\u001b[0m_run\u001b[0m\u001b[1;33m(\u001b[0m\u001b[1;33m)\u001b[0m\u001b[1;33m\u001b[0m\u001b[1;33m\u001b[0m\u001b[0m\n\u001b[0m\u001b[0;32m    369\u001b[0m \u001b[1;33m\u001b[0m\u001b[0m\n\u001b[0;32m    370\u001b[0m     \u001b[1;32mdef\u001b[0m \u001b[0mon_closed\u001b[0m\u001b[1;33m(\u001b[0m\u001b[0mself\u001b[0m\u001b[1;33m,\u001b[0m \u001b[0mresp\u001b[0m\u001b[1;33m)\u001b[0m\u001b[1;33m:\u001b[0m\u001b[1;33m\u001b[0m\u001b[1;33m\u001b[0m\u001b[0m\n",
      "\u001b[1;32m~\\Anaconda3\\lib\\site-packages\\tweepy\\streaming.py\u001b[0m in \u001b[0;36m_run\u001b[1;34m(self)\u001b[0m\n\u001b[0;32m    267\u001b[0m                     \u001b[0mself\u001b[0m\u001b[1;33m.\u001b[0m\u001b[0msnooze_time\u001b[0m \u001b[1;33m=\u001b[0m \u001b[0mself\u001b[0m\u001b[1;33m.\u001b[0m\u001b[0msnooze_time_step\u001b[0m\u001b[1;33m\u001b[0m\u001b[1;33m\u001b[0m\u001b[0m\n\u001b[0;32m    268\u001b[0m                     \u001b[0mself\u001b[0m\u001b[1;33m.\u001b[0m\u001b[0mlistener\u001b[0m\u001b[1;33m.\u001b[0m\u001b[0mon_connect\u001b[0m\u001b[1;33m(\u001b[0m\u001b[1;33m)\u001b[0m\u001b[1;33m\u001b[0m\u001b[1;33m\u001b[0m\u001b[0m\n\u001b[1;32m--> 269\u001b[1;33m                     \u001b[0mself\u001b[0m\u001b[1;33m.\u001b[0m\u001b[0m_read_loop\u001b[0m\u001b[1;33m(\u001b[0m\u001b[0mresp\u001b[0m\u001b[1;33m)\u001b[0m\u001b[1;33m\u001b[0m\u001b[1;33m\u001b[0m\u001b[0m\n\u001b[0m\u001b[0;32m    270\u001b[0m             \u001b[1;32mexcept\u001b[0m \u001b[1;33m(\u001b[0m\u001b[0mTimeout\u001b[0m\u001b[1;33m,\u001b[0m \u001b[0mssl\u001b[0m\u001b[1;33m.\u001b[0m\u001b[0mSSLError\u001b[0m\u001b[1;33m)\u001b[0m \u001b[1;32mas\u001b[0m \u001b[0mexc\u001b[0m\u001b[1;33m:\u001b[0m\u001b[1;33m\u001b[0m\u001b[1;33m\u001b[0m\u001b[0m\n\u001b[0;32m    271\u001b[0m                 \u001b[1;31m# This is still necessary, as a SSLError can actually be\u001b[0m\u001b[1;33m\u001b[0m\u001b[1;33m\u001b[0m\u001b[1;33m\u001b[0m\u001b[0m\n",
      "\u001b[1;32m~\\Anaconda3\\lib\\site-packages\\tweepy\\streaming.py\u001b[0m in \u001b[0;36m_read_loop\u001b[1;34m(self, resp)\u001b[0m\n\u001b[0;32m    329\u001b[0m             \u001b[0mnext_status_obj\u001b[0m \u001b[1;33m=\u001b[0m \u001b[0mbuf\u001b[0m\u001b[1;33m.\u001b[0m\u001b[0mread_len\u001b[0m\u001b[1;33m(\u001b[0m\u001b[0mlength\u001b[0m\u001b[1;33m)\u001b[0m\u001b[1;33m\u001b[0m\u001b[1;33m\u001b[0m\u001b[0m\n\u001b[0;32m    330\u001b[0m             \u001b[1;32mif\u001b[0m \u001b[0mself\u001b[0m\u001b[1;33m.\u001b[0m\u001b[0mrunning\u001b[0m \u001b[1;32mand\u001b[0m \u001b[0mnext_status_obj\u001b[0m\u001b[1;33m:\u001b[0m\u001b[1;33m\u001b[0m\u001b[1;33m\u001b[0m\u001b[0m\n\u001b[1;32m--> 331\u001b[1;33m                 \u001b[0mself\u001b[0m\u001b[1;33m.\u001b[0m\u001b[0m_data\u001b[0m\u001b[1;33m(\u001b[0m\u001b[0mnext_status_obj\u001b[0m\u001b[1;33m)\u001b[0m\u001b[1;33m\u001b[0m\u001b[1;33m\u001b[0m\u001b[0m\n\u001b[0m\u001b[0;32m    332\u001b[0m \u001b[1;33m\u001b[0m\u001b[0m\n\u001b[0;32m    333\u001b[0m             \u001b[1;31m# # Note: keep-alive newlines might be inserted before each length value.\u001b[0m\u001b[1;33m\u001b[0m\u001b[1;33m\u001b[0m\u001b[1;33m\u001b[0m\u001b[0m\n",
      "\u001b[1;32m~\\Anaconda3\\lib\\site-packages\\tweepy\\streaming.py\u001b[0m in \u001b[0;36m_data\u001b[1;34m(self, data)\u001b[0m\n\u001b[0;32m    301\u001b[0m \u001b[1;33m\u001b[0m\u001b[0m\n\u001b[0;32m    302\u001b[0m     \u001b[1;32mdef\u001b[0m \u001b[0m_data\u001b[0m\u001b[1;33m(\u001b[0m\u001b[0mself\u001b[0m\u001b[1;33m,\u001b[0m \u001b[0mdata\u001b[0m\u001b[1;33m)\u001b[0m\u001b[1;33m:\u001b[0m\u001b[1;33m\u001b[0m\u001b[1;33m\u001b[0m\u001b[0m\n\u001b[1;32m--> 303\u001b[1;33m         \u001b[1;32mif\u001b[0m \u001b[0mself\u001b[0m\u001b[1;33m.\u001b[0m\u001b[0mlistener\u001b[0m\u001b[1;33m.\u001b[0m\u001b[0mon_data\u001b[0m\u001b[1;33m(\u001b[0m\u001b[0mdata\u001b[0m\u001b[1;33m)\u001b[0m \u001b[1;32mis\u001b[0m \u001b[1;32mFalse\u001b[0m\u001b[1;33m:\u001b[0m\u001b[1;33m\u001b[0m\u001b[1;33m\u001b[0m\u001b[0m\n\u001b[0m\u001b[0;32m    304\u001b[0m             \u001b[0mself\u001b[0m\u001b[1;33m.\u001b[0m\u001b[0mrunning\u001b[0m \u001b[1;33m=\u001b[0m \u001b[1;32mFalse\u001b[0m\u001b[1;33m\u001b[0m\u001b[1;33m\u001b[0m\u001b[0m\n\u001b[0;32m    305\u001b[0m \u001b[1;33m\u001b[0m\u001b[0m\n",
      "\u001b[1;32m<ipython-input-13-d04b036156aa>\u001b[0m in \u001b[0;36mon_data\u001b[1;34m(self, data)\u001b[0m\n\u001b[0;32m     11\u001b[0m \u001b[1;33m\u001b[0m\u001b[0m\n\u001b[0;32m     12\u001b[0m         \u001b[0mtweet\u001b[0m \u001b[1;33m=\u001b[0m \u001b[0mall_data\u001b[0m\u001b[1;33m[\u001b[0m\u001b[1;34m\"text\"\u001b[0m\u001b[1;33m]\u001b[0m\u001b[1;33m\u001b[0m\u001b[1;33m\u001b[0m\u001b[0m\n\u001b[1;32m---> 13\u001b[1;33m         \u001b[0msentiment_value\u001b[0m\u001b[1;33m,\u001b[0m \u001b[0mconfidence\u001b[0m \u001b[1;33m=\u001b[0m \u001b[0msentiment\u001b[0m\u001b[1;33m(\u001b[0m\u001b[0mtweet\u001b[0m\u001b[1;33m)\u001b[0m\u001b[1;33m\u001b[0m\u001b[1;33m\u001b[0m\u001b[0m\n\u001b[0m\u001b[0;32m     14\u001b[0m         \u001b[0mprint\u001b[0m\u001b[1;33m(\u001b[0m\u001b[0mtweet\u001b[0m\u001b[1;33m,\u001b[0m \u001b[0msentiment_value\u001b[0m\u001b[1;33m,\u001b[0m \u001b[0mconfidence\u001b[0m\u001b[1;33m)\u001b[0m\u001b[1;33m\u001b[0m\u001b[1;33m\u001b[0m\u001b[0m\n\u001b[0;32m     15\u001b[0m \u001b[1;33m\u001b[0m\u001b[0m\n",
      "\u001b[1;32m<ipython-input-10-5ef567e8d17e>\u001b[0m in \u001b[0;36msentiment\u001b[1;34m(text)\u001b[0m\n\u001b[0;32m      1\u001b[0m \u001b[1;32mdef\u001b[0m \u001b[0msentiment\u001b[0m\u001b[1;33m(\u001b[0m\u001b[0mtext\u001b[0m\u001b[1;33m)\u001b[0m\u001b[1;33m:\u001b[0m\u001b[1;33m\u001b[0m\u001b[1;33m\u001b[0m\u001b[0m\n\u001b[0;32m      2\u001b[0m     \u001b[0mfeats\u001b[0m \u001b[1;33m=\u001b[0m \u001b[0mfind_features\u001b[0m\u001b[1;33m(\u001b[0m\u001b[0mtext\u001b[0m\u001b[1;33m)\u001b[0m\u001b[1;33m\u001b[0m\u001b[1;33m\u001b[0m\u001b[0m\n\u001b[1;32m----> 3\u001b[1;33m     \u001b[1;32mreturn\u001b[0m \u001b[0mvoted_classifier\u001b[0m\u001b[1;33m.\u001b[0m\u001b[0mclassify\u001b[0m\u001b[1;33m(\u001b[0m\u001b[0mfeats\u001b[0m\u001b[1;33m)\u001b[0m\u001b[1;33m,\u001b[0m\u001b[0mvoted_classifier\u001b[0m\u001b[1;33m.\u001b[0m\u001b[0mconfidence\u001b[0m\u001b[1;33m(\u001b[0m\u001b[0mfeats\u001b[0m\u001b[1;33m)\u001b[0m\u001b[1;33m\u001b[0m\u001b[1;33m\u001b[0m\u001b[0m\n\u001b[0m",
      "\u001b[1;32m<ipython-input-2-a11c4075a3d0>\u001b[0m in \u001b[0;36mclassify\u001b[1;34m(self, features)\u001b[0m\n\u001b[0;32m      6\u001b[0m         \u001b[0mvotes\u001b[0m\u001b[1;33m=\u001b[0m\u001b[1;33m[\u001b[0m\u001b[1;33m]\u001b[0m\u001b[1;33m\u001b[0m\u001b[1;33m\u001b[0m\u001b[0m\n\u001b[0;32m      7\u001b[0m         \u001b[1;32mfor\u001b[0m \u001b[0mc\u001b[0m \u001b[1;32min\u001b[0m \u001b[0mself\u001b[0m\u001b[1;33m.\u001b[0m\u001b[0m_classifiers\u001b[0m\u001b[1;33m:\u001b[0m\u001b[1;33m\u001b[0m\u001b[1;33m\u001b[0m\u001b[0m\n\u001b[1;32m----> 8\u001b[1;33m             \u001b[0mv\u001b[0m\u001b[1;33m=\u001b[0m\u001b[0mc\u001b[0m\u001b[1;33m.\u001b[0m\u001b[0mclassify\u001b[0m\u001b[1;33m(\u001b[0m\u001b[0mfeatures\u001b[0m\u001b[1;33m)\u001b[0m\u001b[1;33m\u001b[0m\u001b[1;33m\u001b[0m\u001b[0m\n\u001b[0m\u001b[0;32m      9\u001b[0m             \u001b[0mvotes\u001b[0m\u001b[1;33m.\u001b[0m\u001b[0mappend\u001b[0m\u001b[1;33m(\u001b[0m\u001b[0mv\u001b[0m\u001b[1;33m)\u001b[0m\u001b[1;33m\u001b[0m\u001b[1;33m\u001b[0m\u001b[0m\n\u001b[0;32m     10\u001b[0m         \u001b[1;32mreturn\u001b[0m \u001b[0mmode\u001b[0m\u001b[1;33m(\u001b[0m\u001b[0mvotes\u001b[0m\u001b[1;33m)\u001b[0m\u001b[1;31m#returns number of votes\u001b[0m\u001b[1;33m\u001b[0m\u001b[1;33m\u001b[0m\u001b[0m\n",
      "\u001b[1;32m~\\Anaconda3\\lib\\site-packages\\nltk\\classify\\api.py\u001b[0m in \u001b[0;36mclassify\u001b[1;34m(self, featureset)\u001b[0m\n\u001b[0;32m     54\u001b[0m         \"\"\"\n\u001b[0;32m     55\u001b[0m         \u001b[1;32mif\u001b[0m \u001b[0moverridden\u001b[0m\u001b[1;33m(\u001b[0m\u001b[0mself\u001b[0m\u001b[1;33m.\u001b[0m\u001b[0mclassify_many\u001b[0m\u001b[1;33m)\u001b[0m\u001b[1;33m:\u001b[0m\u001b[1;33m\u001b[0m\u001b[1;33m\u001b[0m\u001b[0m\n\u001b[1;32m---> 56\u001b[1;33m             \u001b[1;32mreturn\u001b[0m \u001b[0mself\u001b[0m\u001b[1;33m.\u001b[0m\u001b[0mclassify_many\u001b[0m\u001b[1;33m(\u001b[0m\u001b[1;33m[\u001b[0m\u001b[0mfeatureset\u001b[0m\u001b[1;33m]\u001b[0m\u001b[1;33m)\u001b[0m\u001b[1;33m[\u001b[0m\u001b[1;36m0\u001b[0m\u001b[1;33m]\u001b[0m\u001b[1;33m\u001b[0m\u001b[1;33m\u001b[0m\u001b[0m\n\u001b[0m\u001b[0;32m     57\u001b[0m         \u001b[1;32melse\u001b[0m\u001b[1;33m:\u001b[0m\u001b[1;33m\u001b[0m\u001b[1;33m\u001b[0m\u001b[0m\n\u001b[0;32m     58\u001b[0m             \u001b[1;32mraise\u001b[0m \u001b[0mNotImplementedError\u001b[0m\u001b[1;33m(\u001b[0m\u001b[1;33m)\u001b[0m\u001b[1;33m\u001b[0m\u001b[1;33m\u001b[0m\u001b[0m\n",
      "\u001b[1;32m~\\Anaconda3\\lib\\site-packages\\nltk\\classify\\scikitlearn.py\u001b[0m in \u001b[0;36mclassify_many\u001b[1;34m(self, featuresets)\u001b[0m\n\u001b[0;32m     85\u001b[0m         \u001b[0mX\u001b[0m \u001b[1;33m=\u001b[0m \u001b[0mself\u001b[0m\u001b[1;33m.\u001b[0m\u001b[0m_vectorizer\u001b[0m\u001b[1;33m.\u001b[0m\u001b[0mtransform\u001b[0m\u001b[1;33m(\u001b[0m\u001b[0mfeaturesets\u001b[0m\u001b[1;33m)\u001b[0m\u001b[1;33m\u001b[0m\u001b[1;33m\u001b[0m\u001b[0m\n\u001b[0;32m     86\u001b[0m         \u001b[0mclasses\u001b[0m \u001b[1;33m=\u001b[0m \u001b[0mself\u001b[0m\u001b[1;33m.\u001b[0m\u001b[0m_encoder\u001b[0m\u001b[1;33m.\u001b[0m\u001b[0mclasses_\u001b[0m\u001b[1;33m\u001b[0m\u001b[1;33m\u001b[0m\u001b[0m\n\u001b[1;32m---> 87\u001b[1;33m         \u001b[1;32mreturn\u001b[0m \u001b[1;33m[\u001b[0m\u001b[0mclasses\u001b[0m\u001b[1;33m[\u001b[0m\u001b[0mi\u001b[0m\u001b[1;33m]\u001b[0m \u001b[1;32mfor\u001b[0m \u001b[0mi\u001b[0m \u001b[1;32min\u001b[0m \u001b[0mself\u001b[0m\u001b[1;33m.\u001b[0m\u001b[0m_clf\u001b[0m\u001b[1;33m.\u001b[0m\u001b[0mpredict\u001b[0m\u001b[1;33m(\u001b[0m\u001b[0mX\u001b[0m\u001b[1;33m)\u001b[0m\u001b[1;33m]\u001b[0m\u001b[1;33m\u001b[0m\u001b[1;33m\u001b[0m\u001b[0m\n\u001b[0m\u001b[0;32m     88\u001b[0m \u001b[1;33m\u001b[0m\u001b[0m\n\u001b[0;32m     89\u001b[0m     \u001b[1;32mdef\u001b[0m \u001b[0mprob_classify_many\u001b[0m\u001b[1;33m(\u001b[0m\u001b[0mself\u001b[0m\u001b[1;33m,\u001b[0m \u001b[0mfeaturesets\u001b[0m\u001b[1;33m)\u001b[0m\u001b[1;33m:\u001b[0m\u001b[1;33m\u001b[0m\u001b[1;33m\u001b[0m\u001b[0m\n",
      "\u001b[1;32m~\\Anaconda3\\lib\\site-packages\\sklearn\\naive_bayes.py\u001b[0m in \u001b[0;36mpredict\u001b[1;34m(self, X)\u001b[0m\n\u001b[0;32m     64\u001b[0m             \u001b[0mPredicted\u001b[0m \u001b[0mtarget\u001b[0m \u001b[0mvalues\u001b[0m \u001b[1;32mfor\u001b[0m \u001b[0mX\u001b[0m\u001b[1;33m\u001b[0m\u001b[1;33m\u001b[0m\u001b[0m\n\u001b[0;32m     65\u001b[0m         \"\"\"\n\u001b[1;32m---> 66\u001b[1;33m         \u001b[0mjll\u001b[0m \u001b[1;33m=\u001b[0m \u001b[0mself\u001b[0m\u001b[1;33m.\u001b[0m\u001b[0m_joint_log_likelihood\u001b[0m\u001b[1;33m(\u001b[0m\u001b[0mX\u001b[0m\u001b[1;33m)\u001b[0m\u001b[1;33m\u001b[0m\u001b[1;33m\u001b[0m\u001b[0m\n\u001b[0m\u001b[0;32m     67\u001b[0m         \u001b[1;32mreturn\u001b[0m \u001b[0mself\u001b[0m\u001b[1;33m.\u001b[0m\u001b[0mclasses_\u001b[0m\u001b[1;33m[\u001b[0m\u001b[0mnp\u001b[0m\u001b[1;33m.\u001b[0m\u001b[0margmax\u001b[0m\u001b[1;33m(\u001b[0m\u001b[0mjll\u001b[0m\u001b[1;33m,\u001b[0m \u001b[0maxis\u001b[0m\u001b[1;33m=\u001b[0m\u001b[1;36m1\u001b[0m\u001b[1;33m)\u001b[0m\u001b[1;33m]\u001b[0m\u001b[1;33m\u001b[0m\u001b[1;33m\u001b[0m\u001b[0m\n\u001b[0;32m     68\u001b[0m \u001b[1;33m\u001b[0m\u001b[0m\n",
      "\u001b[1;32m~\\Anaconda3\\lib\\site-packages\\sklearn\\naive_bayes.py\u001b[0m in \u001b[0;36m_joint_log_likelihood\u001b[1;34m(self, X)\u001b[0m\n\u001b[0;32m    948\u001b[0m         \u001b[0mneg_prob\u001b[0m \u001b[1;33m=\u001b[0m \u001b[0mnp\u001b[0m\u001b[1;33m.\u001b[0m\u001b[0mlog\u001b[0m\u001b[1;33m(\u001b[0m\u001b[1;36m1\u001b[0m \u001b[1;33m-\u001b[0m \u001b[0mnp\u001b[0m\u001b[1;33m.\u001b[0m\u001b[0mexp\u001b[0m\u001b[1;33m(\u001b[0m\u001b[0mself\u001b[0m\u001b[1;33m.\u001b[0m\u001b[0mfeature_log_prob_\u001b[0m\u001b[1;33m)\u001b[0m\u001b[1;33m)\u001b[0m\u001b[1;33m\u001b[0m\u001b[1;33m\u001b[0m\u001b[0m\n\u001b[0;32m    949\u001b[0m         \u001b[1;31m# Compute  neg_prob · (1 - X).T  as  ∑neg_prob - X · neg_prob\u001b[0m\u001b[1;33m\u001b[0m\u001b[1;33m\u001b[0m\u001b[1;33m\u001b[0m\u001b[0m\n\u001b[1;32m--> 950\u001b[1;33m         \u001b[0mjll\u001b[0m \u001b[1;33m=\u001b[0m \u001b[0msafe_sparse_dot\u001b[0m\u001b[1;33m(\u001b[0m\u001b[0mX\u001b[0m\u001b[1;33m,\u001b[0m \u001b[1;33m(\u001b[0m\u001b[0mself\u001b[0m\u001b[1;33m.\u001b[0m\u001b[0mfeature_log_prob_\u001b[0m \u001b[1;33m-\u001b[0m \u001b[0mneg_prob\u001b[0m\u001b[1;33m)\u001b[0m\u001b[1;33m.\u001b[0m\u001b[0mT\u001b[0m\u001b[1;33m)\u001b[0m\u001b[1;33m\u001b[0m\u001b[1;33m\u001b[0m\u001b[0m\n\u001b[0m\u001b[0;32m    951\u001b[0m         \u001b[0mjll\u001b[0m \u001b[1;33m+=\u001b[0m \u001b[0mself\u001b[0m\u001b[1;33m.\u001b[0m\u001b[0mclass_log_prior_\u001b[0m \u001b[1;33m+\u001b[0m \u001b[0mneg_prob\u001b[0m\u001b[1;33m.\u001b[0m\u001b[0msum\u001b[0m\u001b[1;33m(\u001b[0m\u001b[0maxis\u001b[0m\u001b[1;33m=\u001b[0m\u001b[1;36m1\u001b[0m\u001b[1;33m)\u001b[0m\u001b[1;33m\u001b[0m\u001b[1;33m\u001b[0m\u001b[0m\n\u001b[0;32m    952\u001b[0m \u001b[1;33m\u001b[0m\u001b[0m\n",
      "\u001b[1;32m~\\Anaconda3\\lib\\site-packages\\sklearn\\utils\\extmath.py\u001b[0m in \u001b[0;36msafe_sparse_dot\u001b[1;34m(a, b, dense_output)\u001b[0m\n\u001b[0;32m    166\u001b[0m     \"\"\"\n\u001b[0;32m    167\u001b[0m     \u001b[1;32mif\u001b[0m \u001b[0msparse\u001b[0m\u001b[1;33m.\u001b[0m\u001b[0missparse\u001b[0m\u001b[1;33m(\u001b[0m\u001b[0ma\u001b[0m\u001b[1;33m)\u001b[0m \u001b[1;32mor\u001b[0m \u001b[0msparse\u001b[0m\u001b[1;33m.\u001b[0m\u001b[0missparse\u001b[0m\u001b[1;33m(\u001b[0m\u001b[0mb\u001b[0m\u001b[1;33m)\u001b[0m\u001b[1;33m:\u001b[0m\u001b[1;33m\u001b[0m\u001b[1;33m\u001b[0m\u001b[0m\n\u001b[1;32m--> 168\u001b[1;33m         \u001b[0mret\u001b[0m \u001b[1;33m=\u001b[0m \u001b[0ma\u001b[0m \u001b[1;33m*\u001b[0m \u001b[0mb\u001b[0m\u001b[1;33m\u001b[0m\u001b[1;33m\u001b[0m\u001b[0m\n\u001b[0m\u001b[0;32m    169\u001b[0m         \u001b[1;32mif\u001b[0m \u001b[0mdense_output\u001b[0m \u001b[1;32mand\u001b[0m \u001b[0mhasattr\u001b[0m\u001b[1;33m(\u001b[0m\u001b[0mret\u001b[0m\u001b[1;33m,\u001b[0m \u001b[1;34m\"toarray\"\u001b[0m\u001b[1;33m)\u001b[0m\u001b[1;33m:\u001b[0m\u001b[1;33m\u001b[0m\u001b[1;33m\u001b[0m\u001b[0m\n\u001b[0;32m    170\u001b[0m             \u001b[0mret\u001b[0m \u001b[1;33m=\u001b[0m \u001b[0mret\u001b[0m\u001b[1;33m.\u001b[0m\u001b[0mtoarray\u001b[0m\u001b[1;33m(\u001b[0m\u001b[1;33m)\u001b[0m\u001b[1;33m\u001b[0m\u001b[1;33m\u001b[0m\u001b[0m\n",
      "\u001b[1;32m~\\Anaconda3\\lib\\site-packages\\scipy\\sparse\\base.py\u001b[0m in \u001b[0;36m__mul__\u001b[1;34m(self, other)\u001b[0m\n\u001b[0;32m    468\u001b[0m                 \u001b[1;32mreturn\u001b[0m \u001b[0mself\u001b[0m\u001b[1;33m.\u001b[0m\u001b[0m_mul_vector\u001b[0m\u001b[1;33m(\u001b[0m\u001b[0mother\u001b[0m\u001b[1;33m.\u001b[0m\u001b[0mravel\u001b[0m\u001b[1;33m(\u001b[0m\u001b[1;33m)\u001b[0m\u001b[1;33m)\u001b[0m\u001b[1;33m.\u001b[0m\u001b[0mreshape\u001b[0m\u001b[1;33m(\u001b[0m\u001b[0mM\u001b[0m\u001b[1;33m,\u001b[0m \u001b[1;36m1\u001b[0m\u001b[1;33m)\u001b[0m\u001b[1;33m\u001b[0m\u001b[1;33m\u001b[0m\u001b[0m\n\u001b[0;32m    469\u001b[0m             \u001b[1;32melif\u001b[0m \u001b[0mother\u001b[0m\u001b[1;33m.\u001b[0m\u001b[0mndim\u001b[0m \u001b[1;33m==\u001b[0m \u001b[1;36m2\u001b[0m \u001b[1;32mand\u001b[0m \u001b[0mother\u001b[0m\u001b[1;33m.\u001b[0m\u001b[0mshape\u001b[0m\u001b[1;33m[\u001b[0m\u001b[1;36m0\u001b[0m\u001b[1;33m]\u001b[0m \u001b[1;33m==\u001b[0m \u001b[0mN\u001b[0m\u001b[1;33m:\u001b[0m\u001b[1;33m\u001b[0m\u001b[1;33m\u001b[0m\u001b[0m\n\u001b[1;32m--> 470\u001b[1;33m                 \u001b[1;32mreturn\u001b[0m \u001b[0mself\u001b[0m\u001b[1;33m.\u001b[0m\u001b[0m_mul_multivector\u001b[0m\u001b[1;33m(\u001b[0m\u001b[0mother\u001b[0m\u001b[1;33m)\u001b[0m\u001b[1;33m\u001b[0m\u001b[1;33m\u001b[0m\u001b[0m\n\u001b[0m\u001b[0;32m    471\u001b[0m \u001b[1;33m\u001b[0m\u001b[0m\n\u001b[0;32m    472\u001b[0m         \u001b[1;32mif\u001b[0m \u001b[0misscalarlike\u001b[0m\u001b[1;33m(\u001b[0m\u001b[0mother\u001b[0m\u001b[1;33m)\u001b[0m\u001b[1;33m:\u001b[0m\u001b[1;33m\u001b[0m\u001b[1;33m\u001b[0m\u001b[0m\n",
      "\u001b[1;32m~\\Anaconda3\\lib\\site-packages\\scipy\\sparse\\compressed.py\u001b[0m in \u001b[0;36m_mul_multivector\u001b[1;34m(self, other)\u001b[0m\n\u001b[0;32m    471\u001b[0m         \u001b[1;31m# csr_matvecs or csc_matvecs\u001b[0m\u001b[1;33m\u001b[0m\u001b[1;33m\u001b[0m\u001b[1;33m\u001b[0m\u001b[0m\n\u001b[0;32m    472\u001b[0m         \u001b[0mfn\u001b[0m \u001b[1;33m=\u001b[0m \u001b[0mgetattr\u001b[0m\u001b[1;33m(\u001b[0m\u001b[0m_sparsetools\u001b[0m\u001b[1;33m,\u001b[0m\u001b[0mself\u001b[0m\u001b[1;33m.\u001b[0m\u001b[0mformat\u001b[0m \u001b[1;33m+\u001b[0m \u001b[1;34m'_matvecs'\u001b[0m\u001b[1;33m)\u001b[0m\u001b[1;33m\u001b[0m\u001b[1;33m\u001b[0m\u001b[0m\n\u001b[1;32m--> 473\u001b[1;33m         \u001b[0mfn\u001b[0m\u001b[1;33m(\u001b[0m\u001b[0mM\u001b[0m\u001b[1;33m,\u001b[0m \u001b[0mN\u001b[0m\u001b[1;33m,\u001b[0m \u001b[0mn_vecs\u001b[0m\u001b[1;33m,\u001b[0m \u001b[0mself\u001b[0m\u001b[1;33m.\u001b[0m\u001b[0mindptr\u001b[0m\u001b[1;33m,\u001b[0m \u001b[0mself\u001b[0m\u001b[1;33m.\u001b[0m\u001b[0mindices\u001b[0m\u001b[1;33m,\u001b[0m \u001b[0mself\u001b[0m\u001b[1;33m.\u001b[0m\u001b[0mdata\u001b[0m\u001b[1;33m,\u001b[0m \u001b[0mother\u001b[0m\u001b[1;33m.\u001b[0m\u001b[0mravel\u001b[0m\u001b[1;33m(\u001b[0m\u001b[1;33m)\u001b[0m\u001b[1;33m,\u001b[0m \u001b[0mresult\u001b[0m\u001b[1;33m.\u001b[0m\u001b[0mravel\u001b[0m\u001b[1;33m(\u001b[0m\u001b[1;33m)\u001b[0m\u001b[1;33m)\u001b[0m\u001b[1;33m\u001b[0m\u001b[1;33m\u001b[0m\u001b[0m\n\u001b[0m\u001b[0;32m    474\u001b[0m \u001b[1;33m\u001b[0m\u001b[0m\n\u001b[0;32m    475\u001b[0m         \u001b[1;32mreturn\u001b[0m \u001b[0mresult\u001b[0m\u001b[1;33m\u001b[0m\u001b[1;33m\u001b[0m\u001b[0m\n",
      "\u001b[1;31mKeyboardInterrupt\u001b[0m: "
     ]
    }
   ],
   "source": [
    "auth = OAuthHandler(APIkey, APIsecret)\n",
    "auth.set_access_token(atoken, asecret)\n",
    "\n",
    "twitterStream = Stream(auth, listener())\n",
    "twitterStream.filter(track=['trump'])"
   ]
  },
  {
   "cell_type": "code",
   "execution_count": 81,
   "metadata": {},
   "outputs": [],
   "source": [
    "import matplotlib\n",
    "matplotlib.rcParams['backend'] = \"Qt4Agg\"\n",
    "import matplotlib.pyplot as plt\n",
    "import matplotlib.animation as animation\n",
    "from matplotlib import style"
   ]
  },
  {
   "cell_type": "code",
   "execution_count": 82,
   "metadata": {},
   "outputs": [
    {
     "data": {
      "image/png": "[encoded data removed]",
      "text/plain": [
       "<Figure size 432x288 with 1 Axes>"
      ]
     },
     "metadata": {},
     "output_type": "display_data"
    }
   ],
   "source": [
    "style.use('ggplot')\n",
    "\n",
    "fig = plt.figure()\n",
    "ax1 = fig.add_subplot(1,1,1)"
   ]
  },
  {
   "cell_type": "code",
   "execution_count": 83,
   "metadata": {},
   "outputs": [],
   "source": [
    "def animate(i):\n",
    "    graph_data = open(\"twitter_out.txt\",\"r\").read()\n",
    "    lines = graph_data.split('\\n')\n",
    "    \n",
    "    xar =[]\n",
    "    yar = []\n",
    "    \n",
    "    x = 0\n",
    "    y = 0\n",
    "    \n",
    "    for l in lines:\n",
    "        x += 1\n",
    "        if \"pos\" in l:\n",
    "            y += 1\n",
    "        elif \"neg\" in l:\n",
    "            y -= 1\n",
    "        \n",
    "        xar.append(x)\n",
    "        yar.append(y)\n",
    "        \n",
    "\n",
    "    ax1.clear()\n",
    "    ax1.plot(xar,yar)\n",
    "\n",
    "ani = animation.FuncAnimation(fig, animate, interval=1000)\n",
    "plt.show()"
   ]
  },
  {
   "cell_type": "code",
   "execution_count": 85,
   "metadata": {},
   "outputs": [
    {
     "data": {
      "image/png": "[encoded data removed]",
      "text/plain": [
       "<Figure size 432x288 with 1 Axes>"
      ]
     },
     "metadata": {},
     "output_type": "display_data"
    }
   ],
   "source": [
    "graph_data = open(\"twitter_out.txt\",\"r\").read()\n",
    "lines = graph_data.split('\\n')\n",
    "xar =[]\n",
    "yar = []\n",
    "    \n",
    "x = 0\n",
    "y = 0\n",
    "    \n",
    "for l in lines:\n",
    "    x += 1\n",
    "    if \"pos\" in l:\n",
    "        y += 1\n",
    "    elif \"neg\" in l:\n",
    "        y -= 1\n",
    "        \n",
    "    xar.append(x)\n",
    "    yar.append(y)\n",
    "        \n",
    "\n",
    "#ax1.clear()\n",
    "#ax1.scatter(xar,yar)\n",
    "\n",
    "plt.scatter(xar, yar)\n",
    "plt.show()"
   ]
  },
  {
   "cell_type": "code",
   "execution_count": null,
   "metadata": {},
   "outputs": [],
   "source": []
  }
 ],
 "metadata": {
  "kernelspec": {
   "display_name": "Python 3",
   "language": "python",
   "name": "python3"
  },
  "language_info": {
   "codemirror_mode": {
    "name": "ipython",
    "version": 3
   },
   "file_extension": ".py",
   "mimetype": "text/x-python",
   "name": "python",
   "nbconvert_exporter": "python",
   "pygments_lexer": "ipython3",
   "version": "3.7.1"
  }
 },
 "nbformat": 4,
 "nbformat_minor": 2
}
